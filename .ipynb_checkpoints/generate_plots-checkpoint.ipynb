{
 "cells": [
  {
   "cell_type": "code",
   "execution_count": 1,
   "id": "aacc26ca",
   "metadata": {},
   "outputs": [],
   "source": [
    "import matplotlib.pyplot as plt\n",
    "import pandas as pd"
   ]
  },
  {
   "cell_type": "code",
   "execution_count": 2,
   "id": "ce3bed0e",
   "metadata": {},
   "outputs": [],
   "source": [
    "time = pd.DataFrame({})\n",
    "exp_states = pd.DataFrame({}, dtype=int)\n",
    "\n",
    "b = pd.read_csv(\"./times/B.csv\", header=None)\n",
    "i = pd.read_csv(\"./times/I.csv\", header=None)\n",
    "u = pd.read_csv(\"./times/U.csv\", header=None)\n",
    "g = pd.read_csv(\"./times/G.csv\", header=None)\n",
    "a = pd.read_csv(\"./times/A.csv\", header=None)\n",
    "h = pd.read_csv(\"./times/H.csv\", header=None)"
   ]
  },
  {
   "cell_type": "code",
   "execution_count": 3,
   "id": "ab4d4814",
   "metadata": {},
   "outputs": [],
   "source": [
    "time['Breath-First'] = b[0]\n",
    "time['Interative-Deepening'] = i[0]\n",
    "time['Uniform-Cost'] = u[0]\n",
    "time['Greedy'] = g[0]\n",
    "time['A*'] = a[0]\n",
    "time['Hill Climbing'] = h[0]"
   ]
  },
  {
   "cell_type": "code",
   "execution_count": 4,
   "id": "81300d13",
   "metadata": {},
   "outputs": [
    {
     "data": {
      "text/html": [
       "<div>\n",
       "<style scoped>\n",
       "    .dataframe tbody tr th:only-of-type {\n",
       "        vertical-align: middle;\n",
       "    }\n",
       "\n",
       "    .dataframe tbody tr th {\n",
       "        vertical-align: top;\n",
       "    }\n",
       "\n",
       "    .dataframe thead th {\n",
       "        text-align: right;\n",
       "    }\n",
       "</style>\n",
       "<table border=\"1\" class=\"dataframe\">\n",
       "  <thead>\n",
       "    <tr style=\"text-align: right;\">\n",
       "      <th></th>\n",
       "      <th>Breath-First</th>\n",
       "      <th>Interative-Deepening</th>\n",
       "      <th>Uniform-Cost</th>\n",
       "      <th>Greedy</th>\n",
       "      <th>A*</th>\n",
       "      <th>Hill Climbing</th>\n",
       "    </tr>\n",
       "  </thead>\n",
       "  <tbody>\n",
       "    <tr>\n",
       "      <th>0</th>\n",
       "      <td>38</td>\n",
       "      <td>38.0</td>\n",
       "      <td>68</td>\n",
       "      <td>56</td>\n",
       "      <td>48</td>\n",
       "      <td>43.0</td>\n",
       "    </tr>\n",
       "    <tr>\n",
       "      <th>1</th>\n",
       "      <td>88</td>\n",
       "      <td>101.0</td>\n",
       "      <td>261</td>\n",
       "      <td>93</td>\n",
       "      <td>92</td>\n",
       "      <td>61.0</td>\n",
       "    </tr>\n",
       "    <tr>\n",
       "      <th>2</th>\n",
       "      <td>126</td>\n",
       "      <td>169.0</td>\n",
       "      <td>384</td>\n",
       "      <td>112</td>\n",
       "      <td>114</td>\n",
       "      <td>77.0</td>\n",
       "    </tr>\n",
       "    <tr>\n",
       "      <th>3</th>\n",
       "      <td>223</td>\n",
       "      <td>341.0</td>\n",
       "      <td>806</td>\n",
       "      <td>127</td>\n",
       "      <td>127</td>\n",
       "      <td>81.0</td>\n",
       "    </tr>\n",
       "    <tr>\n",
       "      <th>4</th>\n",
       "      <td>389</td>\n",
       "      <td>660.0</td>\n",
       "      <td>1219</td>\n",
       "      <td>154</td>\n",
       "      <td>151</td>\n",
       "      <td>96.0</td>\n",
       "    </tr>\n",
       "  </tbody>\n",
       "</table>\n",
       "</div>"
      ],
      "text/plain": [
       "   Breath-First  Interative-Deepening  Uniform-Cost  Greedy   A*  \\\n",
       "0            38                  38.0            68      56   48   \n",
       "1            88                 101.0           261      93   92   \n",
       "2           126                 169.0           384     112  114   \n",
       "3           223                 341.0           806     127  127   \n",
       "4           389                 660.0          1219     154  151   \n",
       "\n",
       "   Hill Climbing  \n",
       "0           43.0  \n",
       "1           61.0  \n",
       "2           77.0  \n",
       "3           81.0  \n",
       "4           96.0  "
      ]
     },
     "execution_count": 4,
     "metadata": {},
     "output_type": "execute_result"
    }
   ],
   "source": [
    "time.head()"
   ]
  },
  {
   "cell_type": "code",
   "execution_count": 5,
   "id": "0ce30a3b",
   "metadata": {},
   "outputs": [
    {
     "data": {
      "text/plain": [
       "Text(0, 0.5, 'Tempo (µs)')"
      ]
     },
     "execution_count": 5,
     "metadata": {},
     "output_type": "execute_result"
    },
    {
     "data": {
      "image/png": "[encoded data removed]",
      "text/plain": [
       "<Figure size 432x288 with 1 Axes>"
      ]
     },
     "metadata": {
      "needs_background": "light"
     },
     "output_type": "display_data"
    }
   ],
   "source": [
    "time_plot = time.plot(loglog=True,title='Tempo x Solução Ótima Esperada')\n",
    "time_plot.set_xlabel(\"Tamanho da Solução Ótima Esperada\")\n",
    "time_plot.set_ylabel(\"Tempo (µs)\")"
   ]
  },
  {
   "cell_type": "code",
   "execution_count": 6,
   "id": "949e47a9",
   "metadata": {},
   "outputs": [],
   "source": [
    "exp_states['Breath-First'] = b[1]\n",
    "exp_states['Interative-Deepening'] = i[1]\n",
    "exp_states['Uniform-Cost'] = u[1]\n",
    "exp_states['Greedy'] = g[1]\n",
    "exp_states['A*'] = a[1]\n",
    "exp_states['Hill Climbing'] = h[1]"
   ]
  },
  {
   "cell_type": "code",
   "execution_count": 7,
   "id": "10e50d79",
   "metadata": {},
   "outputs": [
    {
     "data": {
      "text/html": [
       "<div>\n",
       "<style scoped>\n",
       "    .dataframe tbody tr th:only-of-type {\n",
       "        vertical-align: middle;\n",
       "    }\n",
       "\n",
       "    .dataframe tbody tr th {\n",
       "        vertical-align: top;\n",
       "    }\n",
       "\n",
       "    .dataframe thead th {\n",
       "        text-align: right;\n",
       "    }\n",
       "</style>\n",
       "<table border=\"1\" class=\"dataframe\">\n",
       "  <thead>\n",
       "    <tr style=\"text-align: right;\">\n",
       "      <th></th>\n",
       "      <th>Breath-First</th>\n",
       "      <th>Interative-Deepening</th>\n",
       "      <th>Uniform-Cost</th>\n",
       "      <th>Greedy</th>\n",
       "      <th>A*</th>\n",
       "      <th>Hill Climbing</th>\n",
       "    </tr>\n",
       "  </thead>\n",
       "  <tbody>\n",
       "    <tr>\n",
       "      <th>0</th>\n",
       "      <td>2</td>\n",
       "      <td>1.0</td>\n",
       "      <td>3</td>\n",
       "      <td>3</td>\n",
       "      <td>2</td>\n",
       "      <td>5.0</td>\n",
       "    </tr>\n",
       "    <tr>\n",
       "      <th>1</th>\n",
       "      <td>8</td>\n",
       "      <td>4.0</td>\n",
       "      <td>16</td>\n",
       "      <td>6</td>\n",
       "      <td>6</td>\n",
       "      <td>9.0</td>\n",
       "    </tr>\n",
       "    <tr>\n",
       "      <th>2</th>\n",
       "      <td>12</td>\n",
       "      <td>10.0</td>\n",
       "      <td>29</td>\n",
       "      <td>8</td>\n",
       "      <td>8</td>\n",
       "      <td>12.0</td>\n",
       "    </tr>\n",
       "    <tr>\n",
       "      <th>3</th>\n",
       "      <td>21</td>\n",
       "      <td>23.0</td>\n",
       "      <td>62</td>\n",
       "      <td>9</td>\n",
       "      <td>8</td>\n",
       "      <td>14.0</td>\n",
       "    </tr>\n",
       "    <tr>\n",
       "      <th>4</th>\n",
       "      <td>41</td>\n",
       "      <td>46.0</td>\n",
       "      <td>93</td>\n",
       "      <td>11</td>\n",
       "      <td>10</td>\n",
       "      <td>17.0</td>\n",
       "    </tr>\n",
       "  </tbody>\n",
       "</table>\n",
       "</div>"
      ],
      "text/plain": [
       "   Breath-First  Interative-Deepening  Uniform-Cost  Greedy  A*  Hill Climbing\n",
       "0             2                   1.0             3       3   2            5.0\n",
       "1             8                   4.0            16       6   6            9.0\n",
       "2            12                  10.0            29       8   8           12.0\n",
       "3            21                  23.0            62       9   8           14.0\n",
       "4            41                  46.0            93      11  10           17.0"
      ]
     },
     "execution_count": 7,
     "metadata": {},
     "output_type": "execute_result"
    }
   ],
   "source": [
    "exp_states.head()"
   ]
  },
  {
   "cell_type": "code",
   "execution_count": 8,
   "id": "311bbc0d",
   "metadata": {},
   "outputs": [
    {
     "data": {
      "text/plain": [
       "Text(0, 0.5, 'Estados Expandidos')"
      ]
     },
     "execution_count": 8,
     "metadata": {},
     "output_type": "execute_result"
    },
    {
     "data": {
      "image/png": "[encoded data removed]",
      "text/plain": [
       "<Figure size 432x288 with 1 Axes>"
      ]
     },
     "metadata": {
      "needs_background": "light"
     },
     "output_type": "display_data"
    }
   ],
   "source": [
    "exp_states_plot = exp_states.plot(title='Quantidade de Estados Expandidos x Solução Ótima Esperada')\n",
    "exp_states_plot.set_xlabel(\"Tamanho da Solução Ótima Esperada\")\n",
    "exp_states_plot.set_ylabel(\"Estados Expandidos\")"
   ]
  },
  {
   "cell_type": "code",
   "execution_count": null,
   "id": "6c0d7561",
   "metadata": {},
   "outputs": [],
   "source": []
  }
 ],
 "metadata": {
  "kernelspec": {
   "display_name": "Python 3.7.9 64-bit",
   "language": "python",
   "name": "python379jvsc74a57bd06d89323a53d7b72d78806c36d1a1f57f45d7fff5ab89ddc1fc4e056d7c1b75f2"
  },
  "language_info": {
   "codemirror_mode": {
    "name": "ipython",
    "version": 3
   },
   "file_extension": ".py",
   "mimetype": "text/x-python",
   "name": "python",
   "nbconvert_exporter": "python",
   "pygments_lexer": "ipython3",
   "version": "3.7.9"
  }
 },
 "nbformat": 4,
 "nbformat_minor": 5
}
